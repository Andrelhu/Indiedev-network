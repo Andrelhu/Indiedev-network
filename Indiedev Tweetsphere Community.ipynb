{
 "cells": [
  {
   "cell_type": "markdown",
   "metadata": {},
   "source": [
    "### Get a Graph of #indiedev Twitter Community.\n",
    "\n",
    "1) Unify data already extracted and clean DF unnecesary parameters.\n",
    "\n",
    "2) Get Users for nodes.\n",
    "\n",
    "3) Make a RT DF.\n",
    "\n",
    "4) Export Nodes and Edges csv.\n",
    "\n",
    "5) Load into Gephi.\n",
    "\n",
    "6) Import Gephi image."
   ]
  },
  {
   "cell_type": "code",
   "execution_count": 1,
   "metadata": {
    "collapsed": false
   },
   "outputs": [],
   "source": [
    "#Requiered libraries\n",
    "from collections import Counter\n",
    "from tweepy import OAuthHandler, API\n",
    "import tweepy\n",
    "import time\n",
    "import pandas as pd\n",
    "\n",
    "import matplotlib.pyplot as plt\n",
    "import seaborn as sns\n",
    "%matplotlib inline\n",
    "\n",
    "#Auth keys and tokens.   \n",
    "ds = pd.read_pickle('dogge_secret')\n",
    "consumer_key        = ds[0]\n",
    "consumer_secret     = ds[1]\n",
    "access_token        = ds[2]\n",
    "access_token_secret = ds[3]\n",
    "\n",
    "#Tweepy client\n",
    "auth_handler = OAuthHandler(consumer_key, consumer_secret)\n",
    "auth_handler.set_access_token(access_token, access_token_secret)\n",
    "twitter_client = API(auth_handler)"
   ]
  },
  {
   "cell_type": "code",
   "execution_count": 2,
   "metadata": {
    "collapsed": true
   },
   "outputs": [],
   "source": [
    "#The following functions get specific data from \"retweet_status\" and the status user."
   ]
  },
  {
   "cell_type": "code",
   "execution_count": 12,
   "metadata": {
    "collapsed": false
   },
   "outputs": [],
   "source": [
    "#Get Original RT ID and author ID\n",
    "def get_RT_status(df_):\n",
    "    RTO,RTOU,RT_time,RTOU_name = [],[],[],[]\n",
    "    for row in df_['retweeted_status']:\n",
    "        try:\n",
    "            RTO.append(row['id'])\n",
    "        except:\n",
    "            RTO.append(None)\n",
    "        try:\n",
    "            RTOU.append(row['user']['id'])\n",
    "        except:\n",
    "            RTOU.append(None)\n",
    "        try:\n",
    "            RT_time.append(row['created_at'])\n",
    "        except:\n",
    "            RT_time.append(None)\n",
    "        try:\n",
    "            RTOU_name.append(row['screen_name'])\n",
    "        except:\n",
    "            RTOU_name.append(None)\n",
    "    df_['RT_id'] = RTO\n",
    "    df_['RT_userid'] = RTOU\n",
    "    df_['RT_time'] = RT_time\n",
    "    df_['RTOU_name'] = RTOU_name\n",
    "    return df_"
   ]
  },
  {
   "cell_type": "code",
   "execution_count": 13,
   "metadata": {
    "collapsed": true
   },
   "outputs": [],
   "source": [
    "#Get User information\n",
    "def get_User(df_):\n",
    "    target = ['created_at','favourites_count','id','lang','location','statuses_count','time_zone','verified','screen_name','name']\n",
    "    tgt_data = {i:[] for i in target}\n",
    "    for row in df_['user']:\n",
    "        for k in target:\n",
    "            try:\n",
    "                tgt_data[k].append(row[k])\n",
    "            except:\n",
    "                tgt_data[k].append(None)\n",
    "    for k in target:\n",
    "        df_['usr_'+str(k)] = tgt_data[k]\n",
    "    return df_"
   ]
  },
  {
   "cell_type": "code",
   "execution_count": 14,
   "metadata": {
    "collapsed": true
   },
   "outputs": [],
   "source": [
    "#clean_col returns the desired columns for the dataframe"
   ]
  },
  {
   "cell_type": "code",
   "execution_count": 15,
   "metadata": {
    "collapsed": true
   },
   "outputs": [],
   "source": [
    "#Get rid of extra columns\n",
    "def clean_col(df_):\n",
    "    target = [u'id',u'in_reply_to_user_id',u'RT_id',u'created_at',u'favorite_count',u'retweet_count',u'text',\n",
    "                    u'usr_id',u'usr_created_at',u'usr_lang',u'usr_location',u'usr_statuses_count',u'usr_favourites_count',\n",
    "                    u'usr_time_zone',u'usr_verified',u'RT_userid',u'RT_time','usr_screen_name','usr_name','RTOU_name']\n",
    "    df_ = df_[target]\n",
    "    return df_"
   ]
  },
  {
   "cell_type": "code",
   "execution_count": 16,
   "metadata": {
    "collapsed": true
   },
   "outputs": [],
   "source": [
    "#process() gives the parsed final df"
   ]
  },
  {
   "cell_type": "code",
   "execution_count": 17,
   "metadata": {
    "collapsed": true
   },
   "outputs": [],
   "source": [
    "def process(df_):\n",
    "    df_ = get_RT_status(df_)\n",
    "    df_ = get_User(df_)\n",
    "    df_ = clean_col(df_)\n",
    "    return df_"
   ]
  },
  {
   "cell_type": "code",
   "execution_count": 18,
   "metadata": {
    "collapsed": false
   },
   "outputs": [],
   "source": [
    "#indiegames pickles from 1 to 4 are a panda DataFrame of Twitter Statuses\n",
    "#Read them\n",
    "d1 = pd.read_pickle('indiegames')\n",
    "d2 = pd.read_pickle('indiegames2')\n",
    "d3 = pd.read_pickle('indiegames3')\n",
    "d4 = pd.read_pickle('indiegames4')\n",
    "#Parse them\n",
    "dd1 = process(d1)\n",
    "dd2 = process(d2)\n",
    "dd3 = process(d3)\n",
    "dd4 = process(d4)\n",
    "#Join them\n",
    "final = dd1.append(dd2)\n",
    "final = final.append(dd3)\n",
    "final = final.append(dd4)\n",
    "final = final.drop_duplicates()\n",
    "final.to_pickle('ig_final')"
   ]
  },
  {
   "cell_type": "code",
   "execution_count": 19,
   "metadata": {
    "collapsed": false
   },
   "outputs": [],
   "source": [
    "#Get a network of followers"
   ]
  },
  {
   "cell_type": "code",
   "execution_count": 20,
   "metadata": {
    "collapsed": true
   },
   "outputs": [],
   "source": [
    "def get_followers(user_id):\n",
    "    users = []\n",
    "    page_count = 0\n",
    "    try:\n",
    "        for user in tweepy.Cursor(twitter_client.followers, id=user_id, count=200).pages():\n",
    "            page_count += 1\n",
    "            #print 'Getting page {} for followers'.format(page_count)\n",
    "            users.extend(user)\n",
    "    except:\n",
    "        users = 'private'\n",
    "    if users != 'private':\n",
    "        users_id = [a.id for a in users]\n",
    "        return users_id\n",
    "    else:\n",
    "        return users"
   ]
  },
  {
   "cell_type": "code",
   "execution_count": 21,
   "metadata": {
    "collapsed": false
   },
   "outputs": [],
   "source": [
    "sample_users = list(set(list(set(final.usr_id))+list(set(final.RT_userid))))"
   ]
  },
  {
   "cell_type": "code",
   "execution_count": 22,
   "metadata": {
    "collapsed": true
   },
   "outputs": [],
   "source": [
    "clean_sample = [str(i) for i in sample_users if str(i) != 'nan']"
   ]
  },
  {
   "cell_type": "code",
   "execution_count": null,
   "metadata": {
    "collapsed": true
   },
   "outputs": [],
   "source": [
    "follower_id_ids = {}\n",
    "for usr in clean_sample[:20]:\n",
    "    if usr not in follower_id_ids.keys():\n",
    "        follower_id_ids[usr] = get_followers(usr)"
   ]
  },
  {
   "cell_type": "code",
   "execution_count": 24,
   "metadata": {
    "collapsed": true
   },
   "outputs": [],
   "source": [
    "#Get a network of RTs"
   ]
  },
  {
   "cell_type": "code",
   "execution_count": 25,
   "metadata": {
    "collapsed": false
   },
   "outputs": [],
   "source": [
    "rt_df = final[final.RT_userid > 0]"
   ]
  },
  {
   "cell_type": "code",
   "execution_count": 28,
   "metadata": {
    "collapsed": true
   },
   "outputs": [],
   "source": [
    "unique = list(set(rt_df.RT_userid))"
   ]
  },
  {
   "cell_type": "code",
   "execution_count": 31,
   "metadata": {
    "collapsed": false
   },
   "outputs": [
    {
     "name": "stderr",
     "output_type": "stream",
     "text": [
      "C:\\Users\\Andre\\Anaconda22\\lib\\site-packages\\pandas\\core\\generic.py:2701: SettingWithCopyWarning: \n",
      "A value is trying to be set on a copy of a slice from a DataFrame.\n",
      "Try using .loc[row_indexer,col_indexer] = value instead\n",
      "\n",
      "See the caveats in the documentation: http://pandas.pydata.org/pandas-docs/stable/indexing.html#indexing-view-versus-copy\n",
      "  self[name] = value\n"
     ]
    }
   ],
   "source": [
    "rt_links = rt_df[['usr_id','RT_userid','usr_screen_name']]\n",
    "rt_links.usr_id = [int(i) for i in rt_links.usr_id]\n",
    "rt_links.RT_userid = [int(i) for i in rt_links.RT_userid]"
   ]
  },
  {
   "cell_type": "code",
   "execution_count": 44,
   "metadata": {
    "collapsed": false
   },
   "outputs": [
    {
     "data": {
      "text/html": [
       "<div>\n",
       "<table border=\"1\" class=\"dataframe\">\n",
       "  <thead>\n",
       "    <tr style=\"text-align: right;\">\n",
       "      <th></th>\n",
       "      <th>usr_id</th>\n",
       "      <th>RT_userid</th>\n",
       "      <th>usr_screen_name</th>\n",
       "    </tr>\n",
       "  </thead>\n",
       "  <tbody>\n",
       "    <tr>\n",
       "      <th>0</th>\n",
       "      <td>2237643924</td>\n",
       "      <td>2527838610</td>\n",
       "      <td>hotgamesandroid</td>\n",
       "    </tr>\n",
       "    <tr>\n",
       "      <th>1</th>\n",
       "      <td>2231098616</td>\n",
       "      <td>54343507</td>\n",
       "      <td>G2Play</td>\n",
       "    </tr>\n",
       "    <tr>\n",
       "      <th>2</th>\n",
       "      <td>2446741970</td>\n",
       "      <td>4727285215</td>\n",
       "      <td>qu33n_benis</td>\n",
       "    </tr>\n",
       "    <tr>\n",
       "      <th>4</th>\n",
       "      <td>196546017</td>\n",
       "      <td>4727285215</td>\n",
       "      <td>Tarumaturismo</td>\n",
       "    </tr>\n",
       "    <tr>\n",
       "      <th>5</th>\n",
       "      <td>180651830</td>\n",
       "      <td>440660492</td>\n",
       "      <td>AlphaProspector</td>\n",
       "    </tr>\n",
       "  </tbody>\n",
       "</table>\n",
       "</div>"
      ],
      "text/plain": [
       "       usr_id   RT_userid  usr_screen_name\n",
       "0  2237643924  2527838610  hotgamesandroid\n",
       "1  2231098616    54343507           G2Play\n",
       "2  2446741970  4727285215      qu33n_benis\n",
       "4   196546017  4727285215    Tarumaturismo\n",
       "5   180651830   440660492  AlphaProspector"
      ]
     },
     "execution_count": 44,
     "metadata": {},
     "output_type": "execute_result"
    }
   ],
   "source": [
    "rt_links[:5]"
   ]
  },
  {
   "cell_type": "code",
   "execution_count": 37,
   "metadata": {
    "collapsed": true
   },
   "outputs": [],
   "source": [
    "nodes_names = {}\n",
    "for i in copy.values:\n",
    "    if i[0] not in nodes_names.keys():\n",
    "        nodes_names[i[0]] = i[2]\n",
    "    elif i[1] not in nodes_names.keys():\n",
    "        nodes_names[i[1]] = i[2]"
   ]
  },
  {
   "cell_type": "code",
   "execution_count": 38,
   "metadata": {
    "collapsed": false
   },
   "outputs": [],
   "source": [
    "nodes_df = pd.DataFrame.from_dict(nodes_names,orient='index')"
   ]
  },
  {
   "cell_type": "code",
   "execution_count": 39,
   "metadata": {
    "collapsed": false
   },
   "outputs": [],
   "source": [
    "nodes_df['a'] = nodes_df.index\n",
    "nodes_df.columns = ['Label','Id']\n",
    "nodes_df = nodes_df[['Id','Label']]"
   ]
  },
  {
   "cell_type": "code",
   "execution_count": 42,
   "metadata": {
    "collapsed": false
   },
   "outputs": [
    {
     "data": {
      "text/html": [
       "<div>\n",
       "<table border=\"1\" class=\"dataframe\">\n",
       "  <thead>\n",
       "    <tr style=\"text-align: right;\">\n",
       "      <th></th>\n",
       "      <th>Id</th>\n",
       "      <th>Label</th>\n",
       "    </tr>\n",
       "  </thead>\n",
       "  <tbody>\n",
       "    <tr>\n",
       "      <th>824392887911616512</th>\n",
       "      <td>824392887911616512</td>\n",
       "      <td>indiedevsunite</td>\n",
       "    </tr>\n",
       "    <tr>\n",
       "      <th>826692031628115968</th>\n",
       "      <td>826692031628115968</td>\n",
       "      <td>SZWLvo9OEuGPYwD</td>\n",
       "    </tr>\n",
       "    <tr>\n",
       "      <th>711375263628570624</th>\n",
       "      <td>711375263628570624</td>\n",
       "      <td>amixiusama</td>\n",
       "    </tr>\n",
       "    <tr>\n",
       "      <th>726733246021640192</th>\n",
       "      <td>726733246021640192</td>\n",
       "      <td>TwitchRTsBot</td>\n",
       "    </tr>\n",
       "    <tr>\n",
       "      <th>831353983700725760</th>\n",
       "      <td>831353983700725760</td>\n",
       "      <td>UnDcj6X7zFIxE8n</td>\n",
       "    </tr>\n",
       "  </tbody>\n",
       "</table>\n",
       "</div>"
      ],
      "text/plain": [
       "                                    Id            Label\n",
       "824392887911616512  824392887911616512   indiedevsunite\n",
       "826692031628115968  826692031628115968  SZWLvo9OEuGPYwD\n",
       "711375263628570624  711375263628570624       amixiusama\n",
       "726733246021640192  726733246021640192     TwitchRTsBot\n",
       "831353983700725760  831353983700725760  UnDcj6X7zFIxE8n"
      ]
     },
     "execution_count": 42,
     "metadata": {},
     "output_type": "execute_result"
    }
   ],
   "source": [
    "nodes_df[:5]"
   ]
  },
  {
   "cell_type": "code",
   "execution_count": 43,
   "metadata": {
    "collapsed": true
   },
   "outputs": [],
   "source": [
    "nodes_df.to_csv('nodes_labels')"
   ]
  },
  {
   "cell_type": "markdown",
   "metadata": {},
   "source": [
    "How many nodes do we have?"
   ]
  },
  {
   "cell_type": "code",
   "execution_count": 47,
   "metadata": {
    "collapsed": false,
    "scrolled": true
   },
   "outputs": [
    {
     "data": {
      "text/plain": [
       "38511"
      ]
     },
     "execution_count": 47,
     "metadata": {},
     "output_type": "execute_result"
    }
   ],
   "source": [
    "len(nodes_df)"
   ]
  },
  {
   "cell_type": "markdown",
   "metadata": {},
   "source": [
    "Lets take a random sample of those nodes. Lets say 10%"
   ]
  },
  {
   "cell_type": "code",
   "execution_count": null,
   "metadata": {
    "collapsed": true
   },
   "outputs": [],
   "source": [
    "sample_rt = nodes_df.sample(3851)\n",
    "\n",
    "copy.columns = ['Source','Target','Tag']\n",
    "copy.to_csv('network')\n",
    "sample_df = nodes_df.sample(3851)"
   ]
  },
  {
   "cell_type": "markdown",
   "metadata": {},
   "source": [
    "Load \"network\" and \"nodes_labels\" into Gephi! Get nice graph :3"
   ]
  }
 ],
 "metadata": {
  "anaconda-cloud": {},
  "kernelspec": {
   "display_name": "Python [default]",
   "language": "python",
   "name": "python2"
  },
  "language_info": {
   "codemirror_mode": {
    "name": "ipython",
    "version": 2
   },
   "file_extension": ".py",
   "mimetype": "text/x-python",
   "name": "python",
   "nbconvert_exporter": "python",
   "pygments_lexer": "ipython2",
   "version": "2.7.12"
  }
 },
 "nbformat": 4,
 "nbformat_minor": 1
}
