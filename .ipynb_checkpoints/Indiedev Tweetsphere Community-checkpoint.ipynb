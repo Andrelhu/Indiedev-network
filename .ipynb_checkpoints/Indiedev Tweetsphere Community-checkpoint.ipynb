{
 "cells": [
  {
   "cell_type": "code",
   "execution_count": 1,
   "metadata": {
    "collapsed": false
   },
   "outputs": [],
   "source": [
    "#Requiered libraries\n",
    "from collections import Counter\n",
    "from tweepy import OAuthHandler, API\n",
    "import time\n",
    "import pandas as pd\n",
    "\n",
    "import matplotlib.pyplot as plt\n",
    "import seaborn as sns\n",
    "%matplotlib inline\n",
    "\n",
    "#Auth keys and tokens.   \n",
    "ds = pd.read_pickle('dogge_secret')\n",
    "consumer_key        = ds[0]\n",
    "consumer_secret     = ds[1]\n",
    "access_token        = ds[2]\n",
    "access_token_secret = ds[3]\n",
    "\n",
    "#Tweepy client\n",
    "auth_handler = OAuthHandler(consumer_key, consumer_secret)\n",
    "auth_handler.set_access_token(access_token, access_token_secret)\n",
    "twitter_client = API(auth_handler)"
   ]
  },
  {
   "cell_type": "code",
   "execution_count": 2,
   "metadata": {
    "collapsed": true
   },
   "outputs": [],
   "source": [
    "d1 = pd.read_pickle('indiegames')"
   ]
  },
  {
   "cell_type": "code",
   "execution_count": null,
   "metadata": {
    "collapsed": false
   },
   "outputs": [
    {
     "data": {
      "text/plain": [
       "46110"
      ]
     },
     "execution_count": 3,
     "metadata": {},
     "output_type": "execute_result"
    }
   ],
   "source": [
    "len(d1)"
   ]
  },
  {
   "cell_type": "code",
   "execution_count": null,
   "metadata": {
    "collapsed": true
   },
   "outputs": [],
   "source": [
    "d2 = pd.read_pickle('indiegames2')"
   ]
  },
  {
   "cell_type": "code",
   "execution_count": null,
   "metadata": {
    "collapsed": false
   },
   "outputs": [],
   "source": [
    "len(d2)"
   ]
  },
  {
   "cell_type": "code",
   "execution_count": null,
   "metadata": {
    "collapsed": false
   },
   "outputs": [],
   "source": [
    "d1.columns"
   ]
  },
  {
   "cell_type": "code",
   "execution_count": null,
   "metadata": {
    "collapsed": true
   },
   "outputs": [],
   "source": [
    "desired = ['created_at','favorite_count','id','in_reply_to_status_id',\n",
    "          'in_reply_to_user_id','retweet_count','retweeted_status','text','user']"
   ]
  },
  {
   "cell_type": "code",
   "execution_count": null,
   "metadata": {
    "collapsed": true
   },
   "outputs": [],
   "source": [
    "dd1 = d1[desired]"
   ]
  },
  {
   "cell_type": "code",
   "execution_count": 17,
   "metadata": {
    "collapsed": false
   },
   "outputs": [
    {
     "data": {
      "text/html": [
       "<div>\n",
       "<table border=\"1\" class=\"dataframe\">\n",
       "  <thead>\n",
       "    <tr style=\"text-align: right;\">\n",
       "      <th></th>\n",
       "      <th>created_at</th>\n",
       "      <th>favorite_count</th>\n",
       "      <th>geo</th>\n",
       "      <th>id</th>\n",
       "      <th>in_reply_to_status_id</th>\n",
       "      <th>in_reply_to_user_id</th>\n",
       "      <th>retweet_count</th>\n",
       "      <th>retweeted</th>\n",
       "      <th>retweeted_status</th>\n",
       "      <th>text</th>\n",
       "      <th>user</th>\n",
       "    </tr>\n",
       "  </thead>\n",
       "  <tbody>\n",
       "    <tr>\n",
       "      <th>0</th>\n",
       "      <td>Sat Feb 25 23:59:55 +0000 2017</td>\n",
       "      <td>0</td>\n",
       "      <td>None</td>\n",
       "      <td>835640499176361984</td>\n",
       "      <td>None</td>\n",
       "      <td>None</td>\n",
       "      <td>2</td>\n",
       "      <td>False</td>\n",
       "      <td>{u'contributors': None, u'truncated': True, u'...</td>\n",
       "      <td>RT @Pug_and_Dragon: The Garden is at $2.99 on ...</td>\n",
       "      <td>{u'follow_request_sent': False, u'has_extended...</td>\n",
       "    </tr>\n",
       "    <tr>\n",
       "      <th>1</th>\n",
       "      <td>Sat Feb 25 23:59:42 +0000 2017</td>\n",
       "      <td>0</td>\n",
       "      <td>None</td>\n",
       "      <td>835640446852431879</td>\n",
       "      <td>None</td>\n",
       "      <td>None</td>\n",
       "      <td>9</td>\n",
       "      <td>False</td>\n",
       "      <td>{u'contributors': None, u'truncated': True, u'...</td>\n",
       "      <td>RT @she_who_codes: #artists have invaded! Lett...</td>\n",
       "      <td>{u'follow_request_sent': False, u'has_extended...</td>\n",
       "    </tr>\n",
       "    <tr>\n",
       "      <th>2</th>\n",
       "      <td>Sat Feb 25 23:59:40 +0000 2017</td>\n",
       "      <td>0</td>\n",
       "      <td>None</td>\n",
       "      <td>835640436609843200</td>\n",
       "      <td>None</td>\n",
       "      <td>None</td>\n",
       "      <td>35</td>\n",
       "      <td>False</td>\n",
       "      <td>{u'contributors': None, u'truncated': True, u'...</td>\n",
       "      <td>RT @AmirsCat: Exploring and finding secret roo...</td>\n",
       "      <td>{u'follow_request_sent': False, u'has_extended...</td>\n",
       "    </tr>\n",
       "    <tr>\n",
       "      <th>3</th>\n",
       "      <td>Sat Feb 25 23:59:23 +0000 2017</td>\n",
       "      <td>15</td>\n",
       "      <td>None</td>\n",
       "      <td>835640368079204357</td>\n",
       "      <td>None</td>\n",
       "      <td>None</td>\n",
       "      <td>9</td>\n",
       "      <td>False</td>\n",
       "      <td>NaN</td>\n",
       "      <td>#artists have invaded! Letting #robtheintern t...</td>\n",
       "      <td>{u'follow_request_sent': False, u'has_extended...</td>\n",
       "    </tr>\n",
       "    <tr>\n",
       "      <th>4</th>\n",
       "      <td>Sat Feb 25 23:59:19 +0000 2017</td>\n",
       "      <td>0</td>\n",
       "      <td>None</td>\n",
       "      <td>835640348726726658</td>\n",
       "      <td>None</td>\n",
       "      <td>None</td>\n",
       "      <td>35</td>\n",
       "      <td>False</td>\n",
       "      <td>{u'contributors': None, u'truncated': True, u'...</td>\n",
       "      <td>RT @AmirsCat: Exploring and finding secret roo...</td>\n",
       "      <td>{u'follow_request_sent': False, u'has_extended...</td>\n",
       "    </tr>\n",
       "    <tr>\n",
       "      <th>5</th>\n",
       "      <td>Sat Feb 25 23:59:03 +0000 2017</td>\n",
       "      <td>0</td>\n",
       "      <td>None</td>\n",
       "      <td>835640280967745536</td>\n",
       "      <td>None</td>\n",
       "      <td>None</td>\n",
       "      <td>36</td>\n",
       "      <td>False</td>\n",
       "      <td>{u'contributors': None, u'truncated': False, u...</td>\n",
       "      <td>RT @Assault_Spy: カサ打ち上げ&amp;amp;試作型斬撃カサウェーブ（打ち上げタメ...</td>\n",
       "      <td>{u'follow_request_sent': False, u'has_extended...</td>\n",
       "    </tr>\n",
       "    <tr>\n",
       "      <th>6</th>\n",
       "      <td>Sat Feb 25 23:58:02 +0000 2017</td>\n",
       "      <td>0</td>\n",
       "      <td>None</td>\n",
       "      <td>835640026302046208</td>\n",
       "      <td>None</td>\n",
       "      <td>None</td>\n",
       "      <td>16</td>\n",
       "      <td>False</td>\n",
       "      <td>{u'contributors': None, u'truncated': False, u...</td>\n",
       "      <td>RT @OneAndOnlyKovic: Please Read and Share\\nTh...</td>\n",
       "      <td>{u'follow_request_sent': False, u'has_extended...</td>\n",
       "    </tr>\n",
       "    <tr>\n",
       "      <th>7</th>\n",
       "      <td>Sat Feb 25 23:57:56 +0000 2017</td>\n",
       "      <td>0</td>\n",
       "      <td>None</td>\n",
       "      <td>835640000901447682</td>\n",
       "      <td>None</td>\n",
       "      <td>None</td>\n",
       "      <td>36</td>\n",
       "      <td>False</td>\n",
       "      <td>{u'contributors': None, u'truncated': False, u...</td>\n",
       "      <td>RT @Assault_Spy: カサ打ち上げ&amp;amp;試作型斬撃カサウェーブ（打ち上げタメ...</td>\n",
       "      <td>{u'follow_request_sent': False, u'has_extended...</td>\n",
       "    </tr>\n",
       "    <tr>\n",
       "      <th>8</th>\n",
       "      <td>Sat Feb 25 23:57:23 +0000 2017</td>\n",
       "      <td>0</td>\n",
       "      <td>None</td>\n",
       "      <td>835639864947191808</td>\n",
       "      <td>None</td>\n",
       "      <td>None</td>\n",
       "      <td>6</td>\n",
       "      <td>False</td>\n",
       "      <td>{u'contributors': None, u'truncated': False, u...</td>\n",
       "      <td>RT @Pugware: Usurper demo just got updated:  h...</td>\n",
       "      <td>{u'follow_request_sent': False, u'has_extended...</td>\n",
       "    </tr>\n",
       "    <tr>\n",
       "      <th>9</th>\n",
       "      <td>Sat Feb 25 23:57:15 +0000 2017</td>\n",
       "      <td>0</td>\n",
       "      <td>None</td>\n",
       "      <td>835639829094416384</td>\n",
       "      <td>None</td>\n",
       "      <td>None</td>\n",
       "      <td>20</td>\n",
       "      <td>False</td>\n",
       "      <td>{u'contributors': None, u'truncated': True, u'...</td>\n",
       "      <td>RT @studio_rain: https://t.co/46QEkvIVva\\nOld ...</td>\n",
       "      <td>{u'follow_request_sent': False, u'has_extended...</td>\n",
       "    </tr>\n",
       "  </tbody>\n",
       "</table>\n",
       "</div>"
      ],
      "text/plain": [
       "                       created_at  favorite_count   geo                  id  \\\n",
       "0  Sat Feb 25 23:59:55 +0000 2017               0  None  835640499176361984   \n",
       "1  Sat Feb 25 23:59:42 +0000 2017               0  None  835640446852431879   \n",
       "2  Sat Feb 25 23:59:40 +0000 2017               0  None  835640436609843200   \n",
       "3  Sat Feb 25 23:59:23 +0000 2017              15  None  835640368079204357   \n",
       "4  Sat Feb 25 23:59:19 +0000 2017               0  None  835640348726726658   \n",
       "5  Sat Feb 25 23:59:03 +0000 2017               0  None  835640280967745536   \n",
       "6  Sat Feb 25 23:58:02 +0000 2017               0  None  835640026302046208   \n",
       "7  Sat Feb 25 23:57:56 +0000 2017               0  None  835640000901447682   \n",
       "8  Sat Feb 25 23:57:23 +0000 2017               0  None  835639864947191808   \n",
       "9  Sat Feb 25 23:57:15 +0000 2017               0  None  835639829094416384   \n",
       "\n",
       "  in_reply_to_status_id in_reply_to_user_id  retweet_count retweeted  \\\n",
       "0                  None                None              2     False   \n",
       "1                  None                None              9     False   \n",
       "2                  None                None             35     False   \n",
       "3                  None                None              9     False   \n",
       "4                  None                None             35     False   \n",
       "5                  None                None             36     False   \n",
       "6                  None                None             16     False   \n",
       "7                  None                None             36     False   \n",
       "8                  None                None              6     False   \n",
       "9                  None                None             20     False   \n",
       "\n",
       "                                    retweeted_status  \\\n",
       "0  {u'contributors': None, u'truncated': True, u'...   \n",
       "1  {u'contributors': None, u'truncated': True, u'...   \n",
       "2  {u'contributors': None, u'truncated': True, u'...   \n",
       "3                                                NaN   \n",
       "4  {u'contributors': None, u'truncated': True, u'...   \n",
       "5  {u'contributors': None, u'truncated': False, u...   \n",
       "6  {u'contributors': None, u'truncated': False, u...   \n",
       "7  {u'contributors': None, u'truncated': False, u...   \n",
       "8  {u'contributors': None, u'truncated': False, u...   \n",
       "9  {u'contributors': None, u'truncated': True, u'...   \n",
       "\n",
       "                                                text  \\\n",
       "0  RT @Pug_and_Dragon: The Garden is at $2.99 on ...   \n",
       "1  RT @she_who_codes: #artists have invaded! Lett...   \n",
       "2  RT @AmirsCat: Exploring and finding secret roo...   \n",
       "3  #artists have invaded! Letting #robtheintern t...   \n",
       "4  RT @AmirsCat: Exploring and finding secret roo...   \n",
       "5  RT @Assault_Spy: カサ打ち上げ&amp;試作型斬撃カサウェーブ（打ち上げタメ...   \n",
       "6  RT @OneAndOnlyKovic: Please Read and Share\\nTh...   \n",
       "7  RT @Assault_Spy: カサ打ち上げ&amp;試作型斬撃カサウェーブ（打ち上げタメ...   \n",
       "8  RT @Pugware: Usurper demo just got updated:  h...   \n",
       "9  RT @studio_rain: https://t.co/46QEkvIVva\\nOld ...   \n",
       "\n",
       "                                                user  \n",
       "0  {u'follow_request_sent': False, u'has_extended...  \n",
       "1  {u'follow_request_sent': False, u'has_extended...  \n",
       "2  {u'follow_request_sent': False, u'has_extended...  \n",
       "3  {u'follow_request_sent': False, u'has_extended...  \n",
       "4  {u'follow_request_sent': False, u'has_extended...  \n",
       "5  {u'follow_request_sent': False, u'has_extended...  \n",
       "6  {u'follow_request_sent': False, u'has_extended...  \n",
       "7  {u'follow_request_sent': False, u'has_extended...  \n",
       "8  {u'follow_request_sent': False, u'has_extended...  \n",
       "9  {u'follow_request_sent': False, u'has_extended...  "
      ]
     },
     "execution_count": 17,
     "metadata": {},
     "output_type": "execute_result"
    }
   ],
   "source": [
    "dd1[:10]"
   ]
  },
  {
   "cell_type": "code",
   "execution_count": null,
   "metadata": {
    "collapsed": true
   },
   "outputs": [],
   "source": []
  }
 ],
 "metadata": {
  "anaconda-cloud": {},
  "kernelspec": {
   "display_name": "Python [default]",
   "language": "python",
   "name": "python2"
  },
  "language_info": {
   "codemirror_mode": {
    "name": "ipython",
    "version": 2
   },
   "file_extension": ".py",
   "mimetype": "text/x-python",
   "name": "python",
   "nbconvert_exporter": "python",
   "pygments_lexer": "ipython2",
   "version": "2.7.12"
  }
 },
 "nbformat": 4,
 "nbformat_minor": 1
}
